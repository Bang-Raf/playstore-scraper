{
  "cells": [
    {
      "cell_type": "code",
      "execution_count": 14,
      "metadata": {
        "id": "NvdpQpPjaCD5"
      },
      "outputs": [],
      "source": [
        "import pandas as pd\n",
        "\n",
        "from google_play_scraper import app, Sort, reviews\n",
        "\n",
        "from pprint import pprint\n",
        "\n",
        "import pymongo\n",
        "from pymongo import MongoClient\n",
        "\n",
        "import datetime as dt\n",
        "from tzlocal import get_localzone\n",
        "\n",
        "import random\n",
        "import time\n",
        "\n",
        "import os"
      ]
    },
    {
      "cell_type": "code",
      "execution_count": 15,
      "metadata": {
        "id": "Hbk5nElsn45D"
      },
      "outputs": [],
      "source": [
        "client = MongoClient(host='localhost', port=27017)\n",
        "\n",
        "app_proj_db = client['app_proj_db']\n",
        "\n",
        "info_collection = app_proj_db['info_collection']\n",
        "\n",
        "review_collection = app_proj_db['review_collection']"
      ]
    },
    {
      "cell_type": "code",
      "execution_count": 16,
      "metadata": {
        "id": "3rJTtk8O0GiC"
      },
      "outputs": [],
      "source": [
        "# app_df = pd.read_csv('Var/PlayStore/ScrapApp.csv.csv')\n",
        "# app_df.head()\n",
        "app_name = ['BCA Mobile', 'Livin by Mandiri', 'BSI Mobile', 'BNI Mobile', 'BRI Mobile']\n",
        "android_appID = ['com.bca', 'id.bmri.livin', 'com.bsm.activity2', 'src.com.bni', 'id.co.bri.brimo']"
      ]
    },
    {
      "cell_type": "code",
      "execution_count": 17,
      "metadata": {
        "id": "fW6ipVmAoNh2"
      },
      "outputs": [],
      "source": [
        "app_names = list(app_name)\n",
        "app_ids = list(android_appID)"
      ]
    },
    {
      "cell_type": "code",
      "execution_count": null,
      "metadata": {
        "id": "knKqYiqdoSI1"
      },
      "outputs": [],
      "source": [
        "app_info = []\n",
        "for i in app_ids:\n",
        "    info = app(i)\n",
        "    del info['comments']\n",
        "    app_info.append(info)\n",
        "\n",
        "pprint(app_info[0])"
      ]
    },
    {
      "cell_type": "code",
      "execution_count": null,
      "metadata": {
        "id": "bhDSEfSwoT7F"
      },
      "outputs": [],
      "source": [
        "info_collection.insert_many(app_info)"
      ]
    },
    {
      "cell_type": "code",
      "execution_count": null,
      "metadata": {
        "id": "0zBjhYczocew"
      },
      "outputs": [],
      "source": [
        "info_df = pd.DataFrame(list(info_collection.find({})))\n",
        "info_df.head()"
      ]
    },
    {
      "cell_type": "code",
      "execution_count": null,
      "metadata": {},
      "outputs": [],
      "source": [
        "for app_name, app_id in zip(app_names, app_ids):\n",
        "    \n",
        "    start = dt.datetime.now(tz=get_localzone())\n",
        "    fmt= \"%m/%d/%y - %T %p\"    \n",
        "    \n",
        "    print('---'*20)\n",
        "    print('---'*20)    \n",
        "    print(f'***** {app_name} started at {start.strftime(fmt)}')\n",
        "    print()\n",
        "    \n",
        "    app_reviews = []\n",
        "    \n",
        "    count = 200\n",
        "    \n",
        "    batch_num = 0\n",
        "    \n",
        "    # Retrieve reviews (and continuation_token) with reviews function\n",
        "    rvws, token = reviews(\n",
        "        app_id,           # found in app's url\n",
        "        lang='en',        # defaults to 'en'\n",
        "        country='us',     # defaults to 'us'\n",
        "        sort=Sort.NEWEST, # start with most recent\n",
        "        count=count       # batch size\n",
        "    )  # type: ignore\n",
        "    \n",
        "    for r in rvws:\n",
        "        r['app_name'] = app_name # add key for app's name\n",
        "        r['app_id'] = app_id     # add key for app's id\n",
        "    \n",
        "    \n",
        "    app_reviews.extend(rvws)\n",
        "    \n",
        "    batch_num +=1 \n",
        "    print(f'Batch {batch_num} completed.')\n",
        "    \n",
        "    time.sleep(random.randint(1,5))\n",
        "    \n",
        "    pre_review_ids = []\n",
        "    for rvw in app_reviews:\n",
        "        pre_review_ids.append(rvw['reviewId'])\n",
        "    \n",
        "    for batch in range(4999):\n",
        "        rvws, token = reviews( # store continuation_token\n",
        "            app_id,\n",
        "            lang='en',\n",
        "            country='us',\n",
        "            sort=Sort.NEWEST,\n",
        "            count=count,\n",
        "            # using token obtained from previous batch\n",
        "            continuation_token=token\n",
        "        )\n",
        "        \n",
        "        new_review_ids = []\n",
        "        for r in rvws:\n",
        "            new_review_ids.append(r['reviewId'])\n",
        "            \n",
        "            r['app_name'] = app_name # add key for app's name\n",
        "            r['app_id'] = app_id     # add key for app's id\n",
        "    \n",
        "        app_reviews.extend(rvws)\n",
        "        \n",
        "        batch_num +=1\n",
        "        \n",
        "        # Break loop and stop scraping for current app if most recent batch\n",
        "        # did not add any unique reviews\n",
        "        all_review_ids = pre_review_ids + new_review_ids\n",
        "        if len(set(pre_review_ids)) == len(set(all_review_ids)):\n",
        "            print(f'No reviews left to scrape. Completed {batch_num} batches.\\n')\n",
        "            break\n",
        "        \n",
        "        # all_review_ids becomes pre_review_ids to check against \n",
        "        # for next batch\n",
        "        pre_review_ids = all_review_ids\n",
        "        \n",
        "        # At every 100th batch\n",
        "        if batch_num%100==0:\n",
        "            \n",
        "            # print update on number of batches\n",
        "            print(f'Batch {batch_num} completed.')\n",
        "            \n",
        "            # insert reviews into collection\n",
        "            review_collection.insert_many(app_reviews)\n",
        "            \n",
        "            output_path = 'Var/PlayStore/' + app_name + '.csv' \n",
        "            review_df = pd.DataFrame(app_reviews)\n",
        "            review_df.to_csv(output_path, mode='a', header=not os.path.exists(output_path))\n",
        "            \n",
        "            # print update about num reviews inserted\n",
        "            store_time = dt.datetime.now(tz=get_localzone())\n",
        "            print(f\"\"\"\n",
        "            Successfully inserted {len(app_reviews)} {app_name} \n",
        "            reviews into collection at {store_time.strftime(fmt)}.\\n\n",
        "            \"\"\")\n",
        "            \n",
        "            # empty our list for next round of 100 batches\n",
        "            app_reviews = []\n",
        "        \n",
        "        time.sleep(random.randint(1,5))\n",
        "    \n",
        "    # Print update when max number of batches has been reached\n",
        "    # OR when last batch didn't add any unique reviews\n",
        "    print(f'Done scraping {app_name}.')\n",
        "    print(f'Scraped a total of {len(set(pre_review_ids))} unique reviews.\\n')\n",
        "    \n",
        "    \n",
        "    # Insert remaining reviews into collection\n",
        "    review_collection.insert_many(app_reviews)\n",
        "    \n",
        "    output_path = 'Var/PlayStore/' + app_name + '.csv' \n",
        "    review_df = pd.DataFrame(app_reviews)\n",
        "    review_df.to_csv(output_path, mode='a', header=not os.path.exists(output_path))\n",
        "    \n",
        "    # Get end time\n",
        "    end = dt.datetime.now(tz=get_localzone())\n",
        "    \n",
        "    # Print ending output for app\n",
        "    print(f\"\"\"\n",
        "    Successfully inserted all {app_name} reviews into collection\n",
        "    at {end.strftime(fmt)}.\\n\n",
        "    \"\"\")\n",
        "    print(f'Time elapsed for {app_name}: {end-start}')\n",
        "    print('---'*20)\n",
        "    print('---'*20)\n",
        "    print('\\n')\n",
        "    \n",
        "    time.sleep(random.randint(1,5))"
      ]
    }
  ],
  "metadata": {
    "colab": {
      "provenance": []
    },
    "kernelspec": {
      "display_name": "Python 3.11.0 64-bit",
      "language": "python",
      "name": "python3"
    },
    "language_info": {
      "codemirror_mode": {
        "name": "ipython",
        "version": 3
      },
      "file_extension": ".py",
      "mimetype": "text/x-python",
      "name": "python",
      "nbconvert_exporter": "python",
      "pygments_lexer": "ipython3",
      "version": "3.11.0 (main, Oct 24 2022, 18:26:48) [MSC v.1933 64 bit (AMD64)]"
    },
    "vscode": {
      "interpreter": {
        "hash": "2d681002bfa98c22e3a55bd09cef3381f6316e5c0f3421472a2863e693739461"
      }
    }
  },
  "nbformat": 4,
  "nbformat_minor": 0
}
